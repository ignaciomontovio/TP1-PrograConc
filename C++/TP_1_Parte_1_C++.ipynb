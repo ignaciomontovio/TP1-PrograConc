{
  "nbformat": 4,
  "nbformat_minor": 0,
  "metadata": {
    "colab": {
      "provenance": [],
      "authorship_tag": "ABX9TyNTwdPKYfbI1VOfCeZSwCgP",
      "include_colab_link": true
    },
    "kernelspec": {
      "name": "python3",
      "display_name": "Python 3"
    },
    "language_info": {
      "name": "python"
    }
  },
  "cells": [
    {
      "cell_type": "markdown",
      "metadata": {
        "id": "view-in-github",
        "colab_type": "text"
      },
      "source": [
        "<a href=\"https://colab.research.google.com/github/ignaciomontovio/TP1-PrograConc/blob/c%2B%2B/TP_1_Parte_1_C%2B%2B.ipynb\" target=\"_parent\"><img src=\"https://colab.research.google.com/assets/colab-badge.svg\" alt=\"Open In Colab\"/></a>"
      ]
    },
    {
      "cell_type": "code",
      "source": [
        "!mkdir src\n",
        "!mkdir bin"
      ],
      "metadata": {
        "id": "MaakG4KqDpM7"
      },
      "execution_count": null,
      "outputs": []
    },
    {
      "cell_type": "code",
      "execution_count": null,
      "metadata": {
        "id": "q3az32c7B9lR"
      },
      "outputs": [],
      "source": [
        "%%writefile src/process_tree.cpp\n",
        "#include <cstring>\n",
        "#include <iostream>\n",
        "#include <map>\n",
        "#include <sstream>\n",
        "#include <sys/wait.h>\n",
        "#include <unistd.h>\n",
        "#include <vector>\n",
        "\n",
        "using namespace std;\n",
        "\n",
        "struct Node\n",
        "{\n",
        "  char letter;\n",
        "  pid_t pid;\n",
        "  pid_t parent;\n",
        "\n",
        "  Node(char letter_)\n",
        "  {\n",
        "    letter = letter_;\n",
        "    pid = getpid();\n",
        "    parent = getppid();\n",
        "  }\n",
        "\n",
        "  std::string toString()\n",
        "  {\n",
        "    std::stringstream aux;\n",
        "    aux << \"Process: \" << letter << \", PID: \" << pid << \", Parent PID: \"\n",
        "    << parent;\n",
        "    return aux.str();\n",
        "  }\n",
        "};\n",
        "typedef struct Node Node;\n",
        "\n",
        "int main(int argc, char *argv[])\n",
        "{\n",
        "  map<char, vector<char>> nodes_map =\n",
        "  {\n",
        "    {'A', {'B', 'C'}},\n",
        "    {'B', {'D', 'E'}},\n",
        "    {'C', {'F'}},\n",
        "    {'E', {'G', 'H'}},\n",
        "  };\n",
        "\n",
        "  Node current = Node('A');\n",
        "  cout << current.toString() << endl;\n",
        "\n",
        "  vector<char>::iterator next_child = nodes_map[current.letter].begin();\n",
        "  vector<char>::iterator end = nodes_map[current.letter].end();\n",
        "\n",
        "  while (next_child != end)\n",
        "  {\n",
        "    pid_t new_child = fork();\n",
        "\n",
        "    if (new_child < 0)\n",
        "    {\n",
        "      cerr << \"Error: \" << strerror(errno) << endl;\n",
        "      return EXIT_FAILURE;\n",
        "    }\n",
        "\n",
        "    if (new_child == 0)\n",
        "    {\n",
        "      current = Node(*next_child);\n",
        "      cout << current.toString() << endl;\n",
        "\n",
        "      // Si el hijo tiene que crear mas nodos reiniciamos el iterador.\n",
        "      if (nodes_map.find(current.letter) != nodes_map.end())\n",
        "      {\n",
        "        next_child = nodes_map[current.letter].begin();\n",
        "        end = nodes_map[current.letter].end();\n",
        "        continue;\n",
        "      }\n",
        "\n",
        "      break; // Sino terminamos el loop.\n",
        "    }\n",
        "\n",
        "    next_child++;\n",
        "  }\n",
        "\n",
        "  if (nodes_map.find(current.letter) != nodes_map.end())\n",
        "  {\n",
        "    next_child = nodes_map[current.letter].begin();\n",
        "    for (; next_child != end; next_child++)\n",
        "    {\n",
        "      wait(NULL);\n",
        "    }\n",
        "  }\n",
        "  else\n",
        "  {\n",
        "    unsigned int time = 10;\n",
        "\n",
        "    if (argc > 1)\n",
        "    {\n",
        "      try\n",
        "      {\n",
        "        time = stoi(argv[1]);\n",
        "      }\n",
        "      catch(const invalid_argument& e)\n",
        "      {\n",
        "        cerr << \"Invalid time passed as parameter, using default time (\"\n",
        "        << time << \" seconds).\" << endl;\n",
        "      }\n",
        "    }\n",
        "\n",
        "    sleep(time);\n",
        "  }\n",
        "\n",
        "  cout << \"Cerrando proceso: \" << current.letter << endl;\n",
        "\n",
        "  return EXIT_SUCCESS;\n",
        "}"
      ]
    },
    {
      "cell_type": "code",
      "source": [
        "%%writefile run.sh\n",
        "#!/usr/bin/env bash\n",
        "SLEEP_TIME=5\n",
        "\n",
        "echo \"Compilando...\"\n",
        "g++ -std=c++17 -g src/process_tree.cpp -o bin/process_tree\n",
        "\n",
        "echo \"Ejecutando...\"\n",
        "bin/process_tree $SLEEP_TIME 1>output 2>/dev/null &\n",
        "FIRST_PROCESS=$!\n",
        "\n",
        "sleep 1 # Esperamos un segundo a que se creen los nodos...\n",
        "echo \"Arbol de procesos:\"\n",
        "pstree -pc $FIRST_PROCESS\n",
        "\n",
        "sleep $(expr $SLEEP_TIME + 1) # Esperamos a que se cierren...\n",
        "\n",
        "echo -e \"\\nSalida del programa:\"\n",
        "cat ./output"
      ],
      "metadata": {
        "id": "_uwNZwGoDlxS"
      },
      "execution_count": null,
      "outputs": []
    },
    {
      "cell_type": "code",
      "source": [
        "!chmod +x ./run.sh"
      ],
      "metadata": {
        "id": "CXmJejcGEOQX"
      },
      "execution_count": null,
      "outputs": []
    },
    {
      "cell_type": "code",
      "source": [
        "!./run.sh"
      ],
      "metadata": {
        "id": "03xaJKdsETYv"
      },
      "execution_count": null,
      "outputs": []
    }
  ]
}