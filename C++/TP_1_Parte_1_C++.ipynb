{
  "nbformat": 4,
  "nbformat_minor": 0,
  "metadata": {
    "colab": {
      "provenance": []
    },
    "kernelspec": {
      "name": "python3",
      "display_name": "Python 3"
    },
    "language_info": {
      "name": "python"
    }
  },
  "cells": [
    {
      "cell_type": "markdown",
      "source": [
        "# TP 1 - Parte 1 - C++\n",
        "\n",
        "Creamos unas carpetas para organizarnos..."
      ],
      "metadata": {
        "id": "06-fhRa4n64Y"
      }
    },
    {
      "cell_type": "code",
      "source": [
        "!mkdir src\n",
        "!mkdir bin"
      ],
      "metadata": {
        "id": "MaakG4KqDpM7"
      },
      "execution_count": null,
      "outputs": []
    },
    {
      "cell_type": "markdown",
      "source": [
        "Tambien un header para mantener el codigo mas prolijo, esta estructura es la que se va a encargar de guardar y mostrar toda la informacion que almacena cada nodo."
      ],
      "metadata": {
        "id": "MfuseNClofA4"
      }
    },
    {
      "cell_type": "code",
      "execution_count": null,
      "metadata": {
        "id": "q3az32c7B9lR",
        "colab": {
          "base_uri": "https://localhost:8080/"
        },
        "outputId": "304424b5-1cc6-4c19-8d32-02c4bc3a9ca1"
      },
      "outputs": [
        {
          "output_type": "stream",
          "name": "stdout",
          "text": [
            "Writing src/node.h\n"
          ]
        }
      ],
      "source": [
        "%%writefile src/node.h\n",
        "#ifndef NODE_H\n",
        "#define NODE_H\n",
        "\n",
        "#include <sstream>\n",
        "#include <unistd.h>\n",
        "\n",
        "struct Node\n",
        "{\n",
        "  char letter;\n",
        "  pid_t pid;\n",
        "  pid_t parent;\n",
        "\n",
        "  Node(char letter_)\n",
        "  {\n",
        "    letter = letter_;\n",
        "    pid = getpid();\n",
        "    parent = getppid();\n",
        "  }\n",
        "\n",
        "  std::string toString()\n",
        "  {\n",
        "    std::stringstream aux;\n",
        "    aux << \"Process: \" << letter << \", PID: \" << pid << \", Parent PID: \" << parent;\n",
        "    return aux.str();\n",
        "  }\n",
        "};\n",
        "\n",
        "typedef struct Node Node;\n",
        "\n",
        "#endif // NODE_H"
      ]
    },
    {
      "cell_type": "markdown",
      "source": [
        "El codigo fuente, utilizamos un mapa para facilitar la creación del arbol de procesos, pasamos el tiempo que deben dormir como argumento al programa (o un tiempo default de 10 segundos) y creamos los procesos de forma recursiva."
      ],
      "metadata": {
        "id": "WJLrSuY-qIMW"
      }
    },
    {
      "cell_type": "code",
      "source": [
        "%%writefile src/process_tree.cpp\n",
        "#include <cstring>\n",
        "#include <iostream>\n",
        "#include <map>\n",
        "#include <sys/wait.h>\n",
        "#include <unistd.h>\n",
        "#include <vector>\n",
        "#include \"node.h\"\n",
        "\n",
        "#define ERROR -1\n",
        "#define CHILD  0\n",
        "#define INITIAL_NODE 'A'\n",
        "#define DEFAULT_SLEEP_TIME 10\n",
        "\n",
        "using namespace std;\n",
        "\n",
        "int generateChildNodes(map<char, vector<char>> &nodes_map,\n",
        "  char current_letter,\n",
        "  unsigned int sleep_time);\n",
        "\n",
        "int main(int argc, char *argv[])\n",
        "{\n",
        "  map<char, vector<char>> nodes_map =\n",
        "  {\n",
        "    {'A', {'B', 'C'}},\n",
        "    {'B', {'D', 'E'}},\n",
        "    {'C', {'F'}},\n",
        "    {'E', {'G', 'H'}},\n",
        "  };\n",
        "\n",
        "  unsigned int sleep_time = DEFAULT_SLEEP_TIME;\n",
        "\n",
        "  if (argc > 1)\n",
        "  {\n",
        "    try\n",
        "    {\n",
        "      sleep_time = stoi(argv[1]);\n",
        "    }\n",
        "    catch(const invalid_argument& e)\n",
        "    {\n",
        "      cerr << \"Invalid time passed as parameter, using default time (\" << time\n",
        "      << \" seconds).\" << endl;\n",
        "    }\n",
        "  }\n",
        "\n",
        "  return generateChildNodes(nodes_map, INITIAL_NODE, sleep_time);\n",
        "}\n",
        "\n",
        "int generateChildNodes(map<char, vector<char>> &nodes_map,\n",
        "  char current_letter,\n",
        "  unsigned int sleep_time)\n",
        "{\n",
        "  Node current = Node(current_letter);\n",
        "  cout << current.toString() << endl;\n",
        "\n",
        "  if (nodes_map.find(current.letter) == nodes_map.end())\n",
        "  {\n",
        "    sleep(sleep_time);\n",
        "    cout << \"Cerrando proceso: \" << current.letter << endl;\n",
        "    return EXIT_SUCCESS;\n",
        "  }\n",
        "\n",
        "  for (auto next_child: nodes_map[current.letter])\n",
        "  {\n",
        "    pid_t new_pid = fork();\n",
        "\n",
        "    switch (new_pid)\n",
        "    {\n",
        "    case ERROR:\n",
        "      cerr << \"Error: \" << strerror(errno) << endl;\n",
        "      return EXIT_FAILURE;\n",
        "      break;\n",
        "\n",
        "    case CHILD:\n",
        "      return generateChildNodes(nodes_map, next_child, sleep_time);\n",
        "      break;\n",
        "\n",
        "    default: // Parent case\n",
        "      break;\n",
        "    }\n",
        "  }\n",
        "\n",
        "  for (auto next_child: nodes_map[current.letter])\n",
        "  {\n",
        "    wait(NULL);\n",
        "  }\n",
        "\n",
        "  cout << \"Cerrando proceso: \" << current.letter << endl;\n",
        "  return EXIT_SUCCESS;\n",
        "}"
      ],
      "metadata": {
        "colab": {
          "base_uri": "https://localhost:8080/"
        },
        "id": "UBCzNd-ClqrU",
        "outputId": "7114309b-604b-4c7f-988f-c82d93513cb3"
      },
      "execution_count": null,
      "outputs": [
        {
          "output_type": "stream",
          "name": "stdout",
          "text": [
            "Writing src/process_tree.cpp\n"
          ]
        }
      ]
    },
    {
      "cell_type": "markdown",
      "source": [
        "Armamos un pequeño shell script para facilitar la corroboración del funcionamiento de nuestro programa."
      ],
      "metadata": {
        "id": "uLyOLpblpZfN"
      }
    },
    {
      "cell_type": "code",
      "source": [
        "%%writefile run.sh\n",
        "#!/usr/bin/env bash\n",
        "SLEEP_TIME=5\n",
        "\n",
        "echo \"Compilando...\"\n",
        "g++ -std=c++17 -g src/process_tree.cpp -o bin/process_tree\n",
        "if [ $? -ne 0 ]; then\n",
        "    echo \"Compilacion fallida.\"\n",
        "    exit 1\n",
        "fi\n",
        "\n",
        "echo \"Ejecutando...\"\n",
        "bin/process_tree $SLEEP_TIME 1>output 2>/dev/null &\n",
        "FIRST_PROCESS=$!\n",
        "\n",
        "sleep 1 # Esperamos un segundo a que se creen los nodos...\n",
        "echo \"Arbol de procesos:\"\n",
        "pstree -pc $FIRST_PROCESS\n",
        "\n",
        "wait $FIRST_PROCESS # Esperamos a que se cierren...\n",
        "\n",
        "if [ $? -eq 0 ]; then\n",
        "    echo -e \"\\nSalida del programa:\"\n",
        "    cat ./output\n",
        "else\n",
        "    echo \"Proceso termino incorrectamente.\"\n",
        "    exit 1\n",
        "fi"
      ],
      "metadata": {
        "id": "_uwNZwGoDlxS",
        "colab": {
          "base_uri": "https://localhost:8080/"
        },
        "outputId": "01874eec-b5ef-4cde-992d-1854fc924e9c"
      },
      "execution_count": null,
      "outputs": [
        {
          "output_type": "stream",
          "name": "stdout",
          "text": [
            "Writing run.sh\n"
          ]
        }
      ]
    },
    {
      "cell_type": "markdown",
      "source": [
        "Le damos permisos de ejecución..."
      ],
      "metadata": {
        "id": "r4YOLgxPpLS5"
      }
    },
    {
      "cell_type": "code",
      "source": [
        "!chmod +x ./run.sh"
      ],
      "metadata": {
        "id": "CXmJejcGEOQX"
      },
      "execution_count": null,
      "outputs": []
    },
    {
      "cell_type": "markdown",
      "source": [
        "Y ejecutamos..."
      ],
      "metadata": {
        "id": "iBrNju1apVbe"
      }
    },
    {
      "cell_type": "code",
      "source": [
        "!./run.sh"
      ],
      "metadata": {
        "id": "03xaJKdsETYv",
        "colab": {
          "base_uri": "https://localhost:8080/"
        },
        "outputId": "8378d604-3983-4246-9a84-06f498fce071"
      },
      "execution_count": null,
      "outputs": [
        {
          "output_type": "stream",
          "name": "stdout",
          "text": [
            "Compilando...\n",
            "Ejecutando...\n",
            "Arbol de procesos:\n",
            "process_tree(932)─┬─process_tree(934)─┬─process_tree(936)\n",
            "                  │                   └─process_tree(937)─┬─process_tree(938)\n",
            "                  │                                       └─process_tree(939)\n",
            "                  └─process_tree(935)───process_tree(940)\n",
            "\n",
            "Salida del programa:\n",
            "Process: A, PID: 932, Parent PID: 915\n",
            "Process: B, PID: 934, Parent PID: 932\n",
            "Process: E, PID: 937, Parent PID: 934\n",
            "Process: D, PID: 936, Parent PID: 934\n",
            "Process: C, PID: 935, Parent PID: 932\n",
            "Process: H, PID: 939, Parent PID: 937\n",
            "Process: G, PID: 938, Parent PID: 937\n",
            "Process: F, PID: 940, Parent PID: 935\n",
            "Cerrando proceso: D\n",
            "Cerrando proceso: F\n",
            "Cerrando proceso: H\n",
            "Cerrando proceso: C\n",
            "Cerrando proceso: G\n",
            "Cerrando proceso: E\n",
            "Cerrando proceso: B\n",
            "Cerrando proceso: A\n"
          ]
        }
      ]
    }
  ]
}