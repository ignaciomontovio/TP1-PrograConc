{
  "nbformat": 4,
  "nbformat_minor": 0,
  "metadata": {
    "colab": {
      "provenance": [],
      "authorship_tag": "ABX9TyN2QbnB3Jj+8Tb20K78FaKC",
      "include_colab_link": true
    },
    "kernelspec": {
      "name": "python3",
      "display_name": "Python 3"
    },
    "language_info": {
      "name": "python"
    }
  },
  "cells": [
    {
      "cell_type": "markdown",
      "metadata": {
        "id": "view-in-github",
        "colab_type": "text"
      },
      "source": [
        "<a href=\"https://colab.research.google.com/github/ignaciomontovio/TP1-PrograConc/blob/python/Python/TP1_Python.ipynb\" target=\"_parent\"><img src=\"https://colab.research.google.com/assets/colab-badge.svg\" alt=\"Open In Colab\"/></a>"
      ]
    },
    {
      "cell_type": "code",
      "execution_count": null,
      "metadata": {
        "colab": {
          "base_uri": "https://localhost:8080/"
        },
        "id": "uLBHiuGn2OUp",
        "outputId": "e75b81b6-5d19-4fe1-bee0-48aab4cedc45"
      },
      "outputs": [
        {
          "output_type": "stream",
          "name": "stdout",
          "text": [
            "Overwriting fork.py\n"
          ]
        }
      ],
      "source": [
        "%%writefile fork.py\n",
        "import time\n",
        "import os\n",
        "import sys\n",
        "\n",
        "pidB = os.fork()\n",
        "if pidB == -1:\n",
        "  sys.exit(\"Error al crear el hijo\")\n",
        "if pidB > 0:\n",
        "  pidC = os.fork()\n",
        "  if pidC == -1:\n",
        "    sys.exit(\"Error al crear el hijo\")\n",
        "  if pidC > 0:\n",
        "    print(\"Proceso A - ID: \", os.getpid(), \"PID: \", os.getppid())\n",
        "    time.sleep(15)\n",
        "    sys.exit(os.EX_OK)\n",
        "  else:\n",
        "    pidF = os.fork()\n",
        "    if pidF == -1:\n",
        "      sys.exit(\"Error al crear el hijo\")\n",
        "    if pidF > 0:\n",
        "      print(\"Proceso C - ID: \", os.getpid(), \"PID: \", os.getppid())\n",
        "      time.sleep(15)\n",
        "      os._exit(os.EX_OK)\n",
        "    else:\n",
        "      print(\"Proceso F - ID: \", os.getpid(), \"PID: \", os.getppid())\n",
        "      time.sleep(15)\n",
        "      os._exit(os.EX_OK)\n",
        "else:\n",
        "  pidD = os.fork()\n",
        "  if pidD == -1:\n",
        "    sys.exit(\"Error al crear el hijo\")\n",
        "  if pidD > 0:\n",
        "    pidE = os.fork()\n",
        "    if pidE == -1:\n",
        "      sys.exit(\"Error al crear el hijo\")\n",
        "    if pidE > 0:\n",
        "      print(\"Proceso B - ID: \", os.getpid(), \"PID: \", os.getppid())\n",
        "      time.sleep(15)\n",
        "      os._exit(os.EX_OK)\n",
        "    else:\n",
        "      pidG = os.fork()\n",
        "      if pidG == -1:\n",
        "        sys.exit(\"Error al crear el hijo\")\n",
        "      if pidG > 0:\n",
        "        pidH = os.fork()\n",
        "        if pidH == -1:\n",
        "          sys.exit(\"Error al crear el hijo\")\n",
        "        if pidH > 0:\n",
        "          print(\"Proceso E - ID: \", os.getpid(), \"PID: \", os.getppid())\n",
        "          time.sleep(15)\n",
        "          os._exit(os.EX_OK)\n",
        "        else:\n",
        "          print(\"Proceso H - ID: \", os.getpid(), \"PID: \", os.getppid())\n",
        "          time.sleep(15)\n",
        "          os._exit(os.EX_OK)\n",
        "      else:\n",
        "        print(\"Proceso G - ID: \", os.getpid(), \"PID: \", os.getppid())\n",
        "        time.sleep(15)\n",
        "        os._exit(os.EX_OK)\n",
        "  else:\n",
        "    print(\"Proceso D - ID: \", os.getpid(), \"PID: \", os.getppid())\n",
        "    time.sleep(15)\n",
        "    os._exit(os.EX_OK)"
      ]
    },
    {
      "cell_type": "code",
      "source": [
        "!nohup python fork.py 1>salida 2>/dev/null &"
      ],
      "metadata": {
        "id": "LAqV9J1U5P6E"
      },
      "execution_count": null,
      "outputs": []
    },
    {
      "cell_type": "code",
      "source": [
        "!pstree"
      ],
      "metadata": {
        "colab": {
          "base_uri": "https://localhost:8080/"
        },
        "id": "rhFyhrgVTwPR",
        "outputId": "0022b893-602e-48fb-dda3-01f6a7639544"
      },
      "execution_count": null,
      "outputs": [
        {
          "output_type": "stream",
          "name": "stdout",
          "text": [
            "docker-init─┬─node─┬─colab-fileshim.\n",
            "            │      ├─dap_multiplexer───4*[{dap_multiplexer}]\n",
            "            │      ├─jupyter-noteboo─┬─python3─┬─pstree\n",
            "            │      │                 │         └─13*[{python3}]\n",
            "            │      │                 └─6*[{jupyter-noteboo}]\n",
            "            │      ├─language_servic─┬─node───7*[{node}]\n",
            "            │      │                 └─6*[{language_servic}]\n",
            "            │      ├─oom_monitor.sh───sleep\n",
            "            │      ├─python3\n",
            "            │      └─10*[{node}]\n",
            "            ├─python3───6*[{python3}]\n",
            "            ├─python3─┬─python3─┬─python3\n",
            "            │         │         └─python3───2*[python3]\n",
            "            │         └─python3───python3\n",
            "            └─run.sh───kernel_manager_───4*[{kernel_manager_}]\n"
          ]
        }
      ]
    },
    {
      "cell_type": "code",
      "source": [
        "!pstree -pc 30206"
      ],
      "metadata": {
        "id": "dsi5i2Xw5Qid"
      },
      "execution_count": null,
      "outputs": []
    }
  ]
}