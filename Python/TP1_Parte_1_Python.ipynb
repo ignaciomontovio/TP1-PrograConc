{
  "cells": [
    {
      "cell_type": "markdown",
      "metadata": {
        "colab_type": "text",
        "id": "view-in-github"
      },
      "source": [
        "<a href=\"https://colab.research.google.com/github/ignaciomontovio/TP1-PrograConc/blob/python/Python/TP1_Parte_1_Python.ipynb\" target=\"_parent\"><img src=\"https://colab.research.google.com/assets/colab-badge.svg\" alt=\"Open In Colab\"/></a>"
      ]
    },
    {
      "cell_type": "markdown",
      "metadata": {
        "id": "VQu1HuoFm2JU"
      },
      "source": [
        "# TP1 - Parte 1 - Python"
      ]
    },
    {
      "cell_type": "code",
      "execution_count": 1,
      "metadata": {
        "colab": {
          "base_uri": "https://localhost:8080/"
        },
        "id": "uLBHiuGn2OUp",
        "outputId": "385cec99-9c60-48ab-bfd3-7668a0758a5d"
      },
      "outputs": [
        {
          "name": "stdout",
          "output_type": "stream",
          "text": [
            "Writing fork.py\n"
          ]
        }
      ],
      "source": [
        "%%writefile fork.py\n",
        "import time\n",
        "import os\n",
        "import sys\n",
        "\n",
        "\n",
        "def processA():\n",
        "    processB()\n",
        "    processC()\n",
        "    print(\n",
        "        \"Proceso A - ID: \",\n",
        "        os.getpid(),\n",
        "        \"PID: \",\n",
        "        os.getppid(),\n",
        "        \"\\n\",\n",
        "        end=\"\",\n",
        "        flush=True,\n",
        "    )\n",
        "    time.sleep(15)\n",
        "    sys.exit(os.EX_OK)\n",
        "\n",
        "\n",
        "def processB():\n",
        "    pidB = os.fork()\n",
        "    if pidB == -1:\n",
        "        sys.exit(\"Error al crear el hijo\")\n",
        "    if pidB == 0:\n",
        "        processD()\n",
        "        processE()\n",
        "        print(\n",
        "            \"Proceso B - ID: \",\n",
        "            os.getpid(),\n",
        "            \"PID: \",\n",
        "            os.getppid(),\n",
        "            \"\\n\",\n",
        "            end=\"\",\n",
        "            flush=True,\n",
        "        )\n",
        "        time.sleep(15)\n",
        "        os._exit(os.EX_OK)\n",
        "\n",
        "\n",
        "def processC():\n",
        "    pidC = os.fork()\n",
        "    if pidC == -1:\n",
        "        sys.exit(\"Error al crear el hijo\")\n",
        "    if pidC == 0:\n",
        "        processF()\n",
        "        print(\n",
        "            \"Proceso C - ID: \",\n",
        "            os.getpid(),\n",
        "            \"PID: \",\n",
        "            os.getppid(),\n",
        "            \"\\n\",\n",
        "            end=\"\",\n",
        "            flush=True,\n",
        "        )\n",
        "        time.sleep(15)\n",
        "        os._exit(os.EX_OK)\n",
        "\n",
        "\n",
        "def processD():\n",
        "    pidD = os.fork()\n",
        "    if pidD == -1:\n",
        "        sys.exit(\"Error al crear el hijo\")\n",
        "    if pidD == 0:\n",
        "        print(\n",
        "            \"Proceso D - ID: \",\n",
        "            os.getpid(),\n",
        "            \"PID: \",\n",
        "            os.getppid(),\n",
        "            \"\\n\",\n",
        "            end=\"\",\n",
        "            flush=True,\n",
        "        )\n",
        "        time.sleep(15)\n",
        "        os._exit(os.EX_OK)\n",
        "\n",
        "\n",
        "def processE():\n",
        "    pidE = os.fork()\n",
        "    if pidE == -1:\n",
        "        sys.exit(\"Error al crear el hijo\")\n",
        "    if pidE == 0:\n",
        "        processG()\n",
        "        processH()\n",
        "        print(\n",
        "            \"Proceso E - ID: \",\n",
        "            os.getpid(),\n",
        "            \"PID: \",\n",
        "            os.getppid(),\n",
        "            \"\\n\",\n",
        "            end=\"\",\n",
        "            flush=True,\n",
        "        )\n",
        "        time.sleep(15)\n",
        "        os._exit(os.EX_OK)\n",
        "\n",
        "\n",
        "def processF():\n",
        "    pidF = os.fork()\n",
        "    if pidF == -1:\n",
        "        sys.exit(\"Error al crear el hijo\")\n",
        "    if pidF == 0:\n",
        "        print(\n",
        "            \"Proceso F - ID: \",\n",
        "            os.getpid(),\n",
        "            \"PID: \",\n",
        "            os.getppid(),\n",
        "            \"\\n\",\n",
        "            end=\"\",\n",
        "            flush=True,\n",
        "        )\n",
        "        time.sleep(15)\n",
        "        os._exit(os.EX_OK)\n",
        "\n",
        "\n",
        "def processG():\n",
        "    pidG = os.fork()\n",
        "    if pidG == -1:\n",
        "        sys.exit(\"Error al crear el hijo\")\n",
        "    if pidG == 0:\n",
        "        print(\n",
        "            \"Proceso G - ID: \",\n",
        "            os.getpid(),\n",
        "            \"PID: \",\n",
        "            os.getppid(),\n",
        "            \"\\n\",\n",
        "            end=\"\",\n",
        "            flush=True,\n",
        "        )\n",
        "        time.sleep(15)\n",
        "        os._exit(os.EX_OK)\n",
        "\n",
        "\n",
        "def processH():\n",
        "    pidH = os.fork()\n",
        "    if pidH == -1:\n",
        "        sys.exit(\"Error al crear el hijo\")\n",
        "    if pidH == 0:\n",
        "        print(\n",
        "            \"Proceso H - ID: \",\n",
        "            os.getpid(),\n",
        "            \"PID: \",\n",
        "            os.getppid(),\n",
        "            \"\\n\",\n",
        "            end=\"\",\n",
        "            flush=True,\n",
        "        )\n",
        "        time.sleep(15)\n",
        "        os._exit(os.EX_OK)\n",
        "\n",
        "\n",
        "def main():\n",
        "    processA()\n",
        "\n",
        "\n",
        "if __name__ == \"__main__\":\n",
        "    main()"
      ]
    },
    {
      "cell_type": "markdown",
      "metadata": {
        "id": "cgFpIpxUnAnW"
      },
      "source": [
        "\n"
      ]
    },
    {
      "cell_type": "code",
      "execution_count": 9,
      "metadata": {
        "id": "LAqV9J1U5P6E"
      },
      "outputs": [],
      "source": [
        "!nohup python fork.py 1>salida 2>/dev/null &"
      ]
    },
    {
      "cell_type": "markdown",
      "metadata": {
        "id": "rMsbQXPmnKtF"
      },
      "source": [
        "\n",
        "\n",
        "\n",
        "> Bloc con sangría\n",
        "\n",
        "\n",
        "\n"
      ]
    },
    {
      "cell_type": "code",
      "execution_count": 10,
      "metadata": {
        "colab": {
          "base_uri": "https://localhost:8080/"
        },
        "id": "rhFyhrgVTwPR",
        "outputId": "2ca728fb-1603-45ba-d301-f9c122a3dca2"
      },
      "outputs": [
        {
          "name": "stdout",
          "output_type": "stream",
          "text": [
            "docker-init─┬─node─┬─colab-fileshim.\n",
            "            │      ├─dap_multiplexer───4*[{dap_multiplexer}]\n",
            "            │      ├─jupyter-noteboo─┬─python3─┬─pstree\n",
            "            │      │                 │         └─13*[{python3}]\n",
            "            │      │                 └─6*[{jupyter-noteboo}]\n",
            "            │      ├─language_servic─┬─node───7*[{node}]\n",
            "            │      │                 └─6*[{language_servic}]\n",
            "            │      ├─oom_monitor.sh───sleep\n",
            "            │      ├─python3\n",
            "            │      └─10*[{node}]\n",
            "            ├─python3───6*[{python3}]\n",
            "            ├─python3─┬─python3─┬─python3\n",
            "            │         │         └─python3───2*[python3]\n",
            "            │         └─python3───python3\n",
            "            └─run.sh───kernel_manager_───4*[{kernel_manager_}]\n"
          ]
        }
      ],
      "source": [
        "!pstree"
      ]
    }
  ],
  "metadata": {
    "colab": {
      "authorship_tag": "ABX9TyOyvGcaERaj/Yz6nP6sTRiG",
      "include_colab_link": true,
      "provenance": []
    },
    "kernelspec": {
      "display_name": "Python 3",
      "name": "python3"
    },
    "language_info": {
      "name": "python"
    }
  },
  "nbformat": 4,
  "nbformat_minor": 0
}
