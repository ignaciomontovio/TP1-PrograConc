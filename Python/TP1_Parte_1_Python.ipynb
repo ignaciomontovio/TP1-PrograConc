{
  "cells": [
    {
      "cell_type": "markdown",
      "metadata": {
        "colab_type": "text",
        "id": "view-in-github"
      },
      "source": [
        "<a href=\"https://colab.research.google.com/github/ignaciomontovio/TP1-PrograConc/blob/python/Python/TP1_Parte_1_Python.ipynb\" target=\"_parent\"><img src=\"https://colab.research.google.com/assets/colab-badge.svg\" alt=\"Open In Colab\"/></a>"
      ]
    },
    {
      "cell_type": "markdown",
      "metadata": {
        "id": "VQu1HuoFm2JU"
      },
      "source": [
        "# TP1 - Parte 1 - Python"
      ]
    },
    {
      "cell_type": "code",
      "execution_count": 1,
      "metadata": {
        "colab": {
          "base_uri": "https://localhost:8080/"
        },
        "id": "uLBHiuGn2OUp",
        "outputId": "385cec99-9c60-48ab-bfd3-7668a0758a5d"
      },
      "outputs": [
        {
          "name": "stdout",
          "output_type": "stream",
          "text": [
            "Writing fork.py\n"
          ]
        }
      ],
      "source": [
        "%%writefile fork.py\n",
        "import time\n",
        "import os\n",
        "import sys\n",
        "\n",
        "def process_b():\n",
        "    pid_b = os.fork()\n",
        "    if pid_b == -1:\n",
        "        sys.exit(\"Error al crear el hijo\")\n",
        "    if pid_b > 0:\n",
        "        process_c()\n",
        "    else:\n",
        "        process_d()\n",
        "\n",
        "def process_c():\n",
        "    pid_c = os.fork()\n",
        "    if pid_c == -1:\n",
        "        sys.exit(\"Error al crear el hijo\")\n",
        "    if pid_c > 0:\n",
        "        print(\"Proceso A - ID:\", os.getpid(), \"PID:\", os.getppid(), \"\\n\", end=\"\", flush=True)\n",
        "        time.sleep(15)\n",
        "        sys.exit(os.EX_OK)\n",
        "    else:\n",
        "        process_f()\n",
        "\n",
        "def process_d():\n",
        "    pid_d = os.fork()\n",
        "    if pid_d == -1:\n",
        "        sys.exit(\"Error al crear el hijo\")\n",
        "    if pid_d > 0:\n",
        "        process_e()\n",
        "    else:\n",
        "        print(\"Proceso D - ID:\", os.getpid(), \"PID:\", os.getppid(), \"\\n\", end=\"\", flush=True)\n",
        "        time.sleep(15)\n",
        "        os._exit(os.EX_OK)\n",
        "\n",
        "def process_e():\n",
        "    pid_e = os.fork()\n",
        "    if pid_e == -1:\n",
        "        sys.exit(\"Error al crear el hijo\")\n",
        "    if pid_e > 0:\n",
        "        print(\"Proceso B - ID:\", os.getpid(), \"PID:\", os.getppid(), \"\\n\", end=\"\", flush=True)\n",
        "        time.sleep(15)\n",
        "        os._exit(os.EX_OK)\n",
        "    else:\n",
        "        process_g()\n",
        "\n",
        "def process_f():\n",
        "    pid_f = os.fork()\n",
        "    if pid_f == -1:\n",
        "        sys.exit(\"Error al crear el hijo\")\n",
        "    if pid_f > 0:\n",
        "        print(\"Proceso C - ID:\", os.getpid(), \"PID:\", os.getppid(), \"\\n\", end=\"\", flush=True)\n",
        "        time.sleep(15)\n",
        "        os._exit(os.EX_OK)\n",
        "    else:\n",
        "        print(\"Proceso F - ID:\", os.getpid(), \"PID:\", os.getppid(), \"\\n\", end=\"\", flush=True)\n",
        "        time.sleep(15)\n",
        "        os._exit(os.EX_OK)\n",
        "\n",
        "def process_g():\n",
        "    pid_g = os.fork()\n",
        "    if pid_g == -1:\n",
        "        sys.exit(\"Error al crear el hijo\")\n",
        "    if pid_g > 0:\n",
        "        process_h()\n",
        "    else:\n",
        "        print(\"Proceso G - ID:\", os.getpid(), \"PID:\", os.getppid(), \"\\n\", end=\"\", flush=True)\n",
        "        time.sleep(15)\n",
        "        os._exit(os.EX_OK)\n",
        "\n",
        "def process_h():\n",
        "    pid_h = os.fork()\n",
        "    if pid_h == -1:\n",
        "        sys.exit(\"Error al crear el hijo\")\n",
        "    if pid_h > 0:\n",
        "        print(\"Proceso E - ID:\", os.getpid(), \"PID:\", os.getppid(), \"\\n\", end=\"\", flush=True)\n",
        "        time.sleep(15)\n",
        "        os._exit(os.EX_OK)\n",
        "    else:\n",
        "        print(\"Proceso H - ID:\", os.getpid(), \"PID:\", os.getppid(), \"\\n\", end=\"\", flush=True)\n",
        "        time.sleep(15)\n",
        "        os._exit(os.EX_OK)\n",
        "\n",
        "def main():\n",
        "    process_b()\n",
        "\n",
        "if __name__ == '__main__':\n",
        "    main()"
      ]
    },
    {
      "cell_type": "markdown",
      "metadata": {
        "id": "cgFpIpxUnAnW"
      },
      "source": [
        "\n"
      ]
    },
    {
      "cell_type": "code",
      "execution_count": 9,
      "metadata": {
        "id": "LAqV9J1U5P6E"
      },
      "outputs": [],
      "source": [
        "!nohup python fork.py 1>salida 2>/dev/null &"
      ]
    },
    {
      "cell_type": "markdown",
      "metadata": {
        "id": "rMsbQXPmnKtF"
      },
      "source": [
        "\n",
        "\n",
        "\n",
        "> Bloc con sangría\n",
        "\n",
        "\n",
        "\n"
      ]
    },
    {
      "cell_type": "code",
      "execution_count": 10,
      "metadata": {
        "colab": {
          "base_uri": "https://localhost:8080/"
        },
        "id": "rhFyhrgVTwPR",
        "outputId": "2ca728fb-1603-45ba-d301-f9c122a3dca2"
      },
      "outputs": [
        {
          "name": "stdout",
          "output_type": "stream",
          "text": [
            "docker-init─┬─node─┬─colab-fileshim.\n",
            "            │      ├─dap_multiplexer───4*[{dap_multiplexer}]\n",
            "            │      ├─jupyter-noteboo─┬─python3─┬─pstree\n",
            "            │      │                 │         └─13*[{python3}]\n",
            "            │      │                 └─6*[{jupyter-noteboo}]\n",
            "            │      ├─language_servic─┬─node───7*[{node}]\n",
            "            │      │                 └─6*[{language_servic}]\n",
            "            │      ├─oom_monitor.sh───sleep\n",
            "            │      ├─python3\n",
            "            │      └─10*[{node}]\n",
            "            ├─python3───6*[{python3}]\n",
            "            ├─python3─┬─python3─┬─python3\n",
            "            │         │         └─python3───2*[python3]\n",
            "            │         └─python3───python3\n",
            "            └─run.sh───kernel_manager_───4*[{kernel_manager_}]\n"
          ]
        }
      ],
      "source": [
        "!pstree"
      ]
    }
  ],
  "metadata": {
    "colab": {
      "authorship_tag": "ABX9TyOyvGcaERaj/Yz6nP6sTRiG",
      "include_colab_link": true,
      "provenance": []
    },
    "kernelspec": {
      "display_name": "Python 3",
      "name": "python3"
    },
    "language_info": {
      "name": "python"
    }
  },
  "nbformat": 4,
  "nbformat_minor": 0
}
