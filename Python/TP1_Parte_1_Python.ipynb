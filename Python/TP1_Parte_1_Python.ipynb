{
  "nbformat": 4,
  "nbformat_minor": 0,
  "metadata": {
    "colab": {
      "provenance": [],
      "authorship_tag": "ABX9TyOyvGcaERaj/Yz6nP6sTRiG",
      "include_colab_link": true
    },
    "kernelspec": {
      "name": "python3",
      "display_name": "Python 3"
    },
    "language_info": {
      "name": "python"
    }
  },
  "cells": [
    {
      "cell_type": "markdown",
      "metadata": {
        "id": "view-in-github",
        "colab_type": "text"
      },
      "source": [
        "<a href=\"https://colab.research.google.com/github/ignaciomontovio/TP1-PrograConc/blob/python/Python/TP1_Parte_1_Python.ipynb\" target=\"_parent\"><img src=\"https://colab.research.google.com/assets/colab-badge.svg\" alt=\"Open In Colab\"/></a>"
      ]
    },
    {
      "cell_type": "markdown",
      "source": [
        "# TP1 - Parte 1 - Python"
      ],
      "metadata": {
        "id": "VQu1HuoFm2JU"
      }
    },
    {
      "cell_type": "code",
      "execution_count": 1,
      "metadata": {
        "colab": {
          "base_uri": "https://localhost:8080/"
        },
        "id": "uLBHiuGn2OUp",
        "outputId": "385cec99-9c60-48ab-bfd3-7668a0758a5d"
      },
      "outputs": [
        {
          "output_type": "stream",
          "name": "stdout",
          "text": [
            "Writing fork.py\n"
          ]
        }
      ],
      "source": [
        "%%writefile fork.py\n",
        "import time\n",
        "import os\n",
        "import sys\n",
        "\n",
        "def processB():\n",
        "  pidB = os.fork()\n",
        "  if pidB == -1:\n",
        "    sys.exit(\"Error al crear el hijo\")\n",
        "  if pidB > 0:\n",
        "    processC()\n",
        "  else:\n",
        "    processD()\n",
        "\n",
        "def processC():\n",
        "  pidC = os.fork()\n",
        "  if pidC == -1:\n",
        "    sys.exit(\"Error al crear el hijo\")\n",
        "  if pidC > 0:\n",
        "    print(\"Proceso A - ID: \", os.getpid(), \"PID: \", os.getppid(),\"\\n\",end=\"\",flush=True)\n",
        "    time.sleep(15)\n",
        "    sys.exit(os.EX_OK)\n",
        "  else:\n",
        "    processF()\n",
        "\n",
        "def processD():\n",
        "  pidD = os.fork()\n",
        "  if pidD == -1:\n",
        "    sys.exit(\"Error al crear el hijo\")\n",
        "  if pidD > 0:\n",
        "    processE()\n",
        "  else:\n",
        "    print(\"Proceso D - ID: \", os.getpid(), \"PID: \", os.getppid(),\"\\n\",end=\"\",flush=True)\n",
        "    time.sleep(15)\n",
        "    os._exit(os.EX_OK)\n",
        "\n",
        "\n",
        "def processE():\n",
        "  pidE = os.fork()\n",
        "  if pidE == -1:\n",
        "    sys.exit(\"Error al crear el hijo\")\n",
        "  if pidE > 0:\n",
        "    print(\"Proceso B - ID: \", os.getpid(), \"PID: \", os.getppid(),\"\\n\",end=\"\",flush=True)\n",
        "    time.sleep(15)\n",
        "    os._exit(os.EX_OK)\n",
        "  else:\n",
        "    processG()\n",
        "\n",
        "def processF ():\n",
        "  pidF = os.fork()\n",
        "  if pidF == -1:\n",
        "    sys.exit(\"Error al crear el hijo\")\n",
        "  if pidF > 0:\n",
        "    print(\"Proceso C - ID: \", os.getpid(), \"PID: \", os.getppid(),\"\\n\",end=\"\",flush=True)\n",
        "    time.sleep(15)\n",
        "    os._exit(os.EX_OK)\n",
        "  else:\n",
        "    print(\"Proceso F - ID: \", os.getpid(), \"PID: \", os.getppid(),\"\\n\",end=\"\",flush=True)\n",
        "    time.sleep(15)\n",
        "    os._exit(os.EX_OK)\n",
        "\n",
        "def processG():\n",
        "  pidG = os.fork()\n",
        "  if pidG == -1:\n",
        "    sys.exit(\"Error al crear el hijo\")\n",
        "  if pidG > 0:\n",
        "    processH()\n",
        "  else:\n",
        "    print(\"Proceso G - ID: \", os.getpid(), \"PID: \", os.getppid(),\"\\n\",end=\"\",flush=True)\n",
        "    time.sleep(15)\n",
        "    os._exit(os.EX_OK)\n",
        "\n",
        "def processH():\n",
        "  pidH = os.fork()\n",
        "  if pidH == -1:\n",
        "    sys.exit(\"Error al crear el hijo\")\n",
        "  if pidH > 0:\n",
        "    print(\"Proceso E - ID: \", os.getpid(), \"PID: \", os.getppid(),\"\\n\",end=\"\",flush=True)\n",
        "    time.sleep(15)\n",
        "    os._exit(os.EX_OK)\n",
        "  else:\n",
        "    print(\"Proceso H - ID: \", os.getpid(), \"PID: \", os.getppid(),\"\\n\",end=\"\",flush=True)\n",
        "    time.sleep(15)\n",
        "    os._exit(os.EX_OK)\n",
        "\n",
        "def main():\n",
        "    processB()\n",
        "\n",
        "if __name__ == '__main__':\n",
        "   main()"
      ]
    },
    {
      "cell_type": "markdown",
      "source": [
        "\n"
      ],
      "metadata": {
        "id": "cgFpIpxUnAnW"
      }
    },
    {
      "cell_type": "code",
      "source": [
        "!nohup python fork.py 1>salida 2>/dev/null &"
      ],
      "metadata": {
        "id": "LAqV9J1U5P6E"
      },
      "execution_count": 9,
      "outputs": []
    },
    {
      "cell_type": "markdown",
      "source": [
        "\n",
        "\n",
        "\n",
        "> Bloc con sangría\n",
        "\n",
        "\n",
        "\n"
      ],
      "metadata": {
        "id": "rMsbQXPmnKtF"
      }
    },
    {
      "cell_type": "code",
      "source": [
        "!pstree"
      ],
      "metadata": {
        "colab": {
          "base_uri": "https://localhost:8080/"
        },
        "id": "rhFyhrgVTwPR",
        "outputId": "2ca728fb-1603-45ba-d301-f9c122a3dca2"
      },
      "execution_count": 10,
      "outputs": [
        {
          "output_type": "stream",
          "name": "stdout",
          "text": [
            "docker-init─┬─node─┬─colab-fileshim.\n",
            "            │      ├─dap_multiplexer───4*[{dap_multiplexer}]\n",
            "            │      ├─jupyter-noteboo─┬─python3─┬─pstree\n",
            "            │      │                 │         └─13*[{python3}]\n",
            "            │      │                 └─6*[{jupyter-noteboo}]\n",
            "            │      ├─language_servic─┬─node───7*[{node}]\n",
            "            │      │                 └─6*[{language_servic}]\n",
            "            │      ├─oom_monitor.sh───sleep\n",
            "            │      ├─python3\n",
            "            │      └─10*[{node}]\n",
            "            ├─python3───6*[{python3}]\n",
            "            ├─python3─┬─python3─┬─python3\n",
            "            │         │         └─python3───2*[python3]\n",
            "            │         └─python3───python3\n",
            "            └─run.sh───kernel_manager_───4*[{kernel_manager_}]\n"
          ]
        }
      ]
    }
  ]
}