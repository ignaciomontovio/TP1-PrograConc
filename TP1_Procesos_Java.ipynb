{
  "nbformat": 4,
  "nbformat_minor": 0,
  "metadata": {
    "colab": {
      "provenance": [],
      "authorship_tag": "ABX9TyOrxdfw2zVNEmoTsnbM7Mdu",
      "include_colab_link": true
    },
    "kernelspec": {
      "name": "python3",
      "display_name": "Python 3"
    },
    "language_info": {
      "name": "python"
    }
  },
  "cells": [
    {
      "cell_type": "markdown",
      "metadata": {
        "id": "view-in-github",
        "colab_type": "text"
      },
      "source": [
        "<a href=\"https://colab.research.google.com/github/ignaciomontovio/TP1-PrograConc/blob/java/TP1_Procesos_Java.ipynb\" target=\"_parent\"><img src=\"https://colab.research.google.com/assets/colab-badge.svg\" alt=\"Open In Colab\"/></a>"
      ]
    },
    {
      "cell_type": "code",
      "execution_count": null,
      "metadata": {
        "id": "Wel2EG97i1rg"
      },
      "outputs": [],
      "source": [
        "import os\n",
        "\n",
        "# Crear el directorio src\n",
        "os.makedirs(\"src\", exist_ok=True)\n",
        "\n",
        "# Crear el directorio bin\n",
        "os.makedirs(\"bin\", exist_ok=True)"
      ]
    },
    {
      "cell_type": "code",
      "source": [
        "# Escribir el contenido de A.java en una celda de código\n",
        "a_java_content = \"\"\"\n",
        "package ejercicio1;\n",
        "\n",
        "public class A {\n",
        "    public static void main(String[] args) {\n",
        "        String procesoAPID = Long.toString(ProcessHandle.current().pid());\n",
        "\n",
        "        System.out.println(\"A (PID: \" + procesoAPID + \", PID Padre: \" + ProcessHandle.current().parent().get().pid() + \")\");\n",
        "\n",
        "        try {\n",
        "            ProcessBuilder builderB = new ProcessBuilder(\"java\", \"src/B.java\", procesoAPID);\n",
        "            ProcessBuilder builderC = new ProcessBuilder(\"java\", \"src/C.java\", procesoAPID);\n",
        "\n",
        "            builderB.inheritIO().start().waitFor();\n",
        "            builderC.inheritIO().start().waitFor();\n",
        "        } catch (Exception e) {\n",
        "            e.printStackTrace();\n",
        "        }\n",
        "    }\n",
        "}\n",
        "\"\"\"\n",
        "\n",
        "# Escribir el contenido de A.java en un archivo\n",
        "with open(\"src/A.java\", \"w\") as java_file:\n",
        "    java_file.write(a_java_content)"
      ],
      "metadata": {
        "id": "hu2SXMIUi9RH"
      },
      "execution_count": null,
      "outputs": []
    },
    {
      "cell_type": "code",
      "source": [
        "# Escribir el contenido de A.java en una celda de código\n",
        "b_java_content = \"\"\"\n",
        "package ejercicio1;\n",
        "\n",
        "public class B {\n",
        "    public static void main(String[] args) {\n",
        "        String letra = \"B\";\n",
        "        //String padrePID = args[0];\n",
        "        //System.out.println(\"VER\" + args[0]);\n",
        "\n",
        "        System.out.println(letra + \" (PID: \" + ProcessHandle.current().pid() + \", PID Padre: \" + ProcessHandle.current().parent().get().pid() + \")\");\n",
        "        try {\n",
        "            ProcessBuilder builderD = new ProcessBuilder(\"java\", \"src/D.java\", Long.toString(ProcessHandle.current().parent().get().pid()));\n",
        "            ProcessBuilder builderE = new ProcessBuilder(\"java\", \"src/E.java\", Long.toString(ProcessHandle.current().parent().get().pid()));\n",
        "\n",
        "            builderD.inheritIO().start().waitFor();\n",
        "            builderE.inheritIO().start().waitFor();\n",
        "        } catch (Exception e) {\n",
        "            e.printStackTrace();\n",
        "        }\n",
        "    }\n",
        "}\n",
        "\"\"\"\n",
        "\n",
        "\n",
        "# Escribir el contenido de A.java en un archivo\n",
        "with open(\"src/B.java\", \"w\") as java_file:\n",
        "    java_file.write(b_java_content)"
      ],
      "metadata": {
        "id": "8CXT_Grii_CH"
      },
      "execution_count": null,
      "outputs": []
    },
    {
      "cell_type": "code",
      "source": [
        "# Escribir el contenido de A.java en una celda de código\n",
        "c_java_content = \"\"\"\n",
        "package ejercicio1;\n",
        "\n",
        "public class C {\n",
        "    public static void main(String[] args) {\n",
        "        String letra = \"C\";\n",
        "       // String padrePID = args[0];\n",
        "\n",
        "        System.out.println(letra + \" (PID: \" + ProcessHandle.current().pid() + \", PID Padre: \" + ProcessHandle.current().parent().get().pid() + \")\");\n",
        "        try {\n",
        "            ProcessBuilder builderF = new ProcessBuilder(\"java\", \"src/F.java\", Long.toString(ProcessHandle.current().parent().get().pid()));\n",
        "            builderF.inheritIO().start().waitFor();\n",
        "        } catch (Exception e) {\n",
        "            e.printStackTrace();\n",
        "        }\n",
        "    }\n",
        "}\n",
        "\"\"\"\n",
        "\n",
        "\n",
        "# Escribir el contenido de A.java en un archivo\n",
        "with open(\"src/C.java\", \"w\") as java_file:\n",
        "    java_file.write(c_java_content)"
      ],
      "metadata": {
        "id": "L1hpr3F0jKKA"
      },
      "execution_count": null,
      "outputs": []
    },
    {
      "cell_type": "code",
      "source": [
        "\n",
        "\n",
        "# Escribir el contenido de A.java en una celda de código\n",
        "d_java_content = \"\"\"\n",
        "package ejercicio1;\n",
        "\n",
        "public class D {\n",
        "    public static void main(String[] args) {\n",
        "        String letra = \"D\";\n",
        "        //String padrePID = args[0];\n",
        "\n",
        "        System.out.println(letra + \" (PID: \" + ProcessHandle.current().pid() + \", PID Padre: \" + ProcessHandle.current().parent().get().pid() + \")\");\n",
        "\n",
        "    }\n",
        "}\n",
        "\"\"\"\n",
        "\n",
        "\n",
        "# Escribir el contenido de A.java en un archivo\n",
        "with open(\"src/D.java\", \"w\") as java_file:\n",
        "    java_file.write(d_java_content)"
      ],
      "metadata": {
        "id": "ct-X9vPRjQr3"
      },
      "execution_count": null,
      "outputs": []
    },
    {
      "cell_type": "code",
      "source": [
        "\n",
        "# Escribir el contenido de A.java en una celda de código\n",
        "e_java_content = \"\"\"\n",
        "package ejercicio1;\n",
        "\n",
        "public class E {\n",
        "    public static void main(String[] args) {\n",
        "        String letra = \"E\";\n",
        "        //String padrePID = args[0];\n",
        "\n",
        "        System.out.println(letra + \" (PID: \" + ProcessHandle.current().pid() + \", PID Padre: \" + ProcessHandle.current().parent().get().pid() + \")\");\n",
        "        try {\n",
        "            ProcessBuilder builderG = new ProcessBuilder(\"java\", \"src/G.java\", Long.toString(ProcessHandle.current().parent().get().pid()));\n",
        "            ProcessBuilder builderH = new ProcessBuilder(\"java\", \"src/H.java\", Long.toString(ProcessHandle.current().parent().get().pid()));\n",
        "\n",
        "            builderG.inheritIO().start().waitFor();\n",
        "            builderH.inheritIO().start().waitFor();\n",
        "        } catch (Exception e) {\n",
        "            e.printStackTrace();\n",
        "        }\n",
        "    }\n",
        "}\n",
        "\n",
        "\"\"\"\n",
        "\n",
        "\n",
        "# Escribir el contenido de A.java en un archivo\n",
        "with open(\"src/E.java\", \"w\") as java_file:\n",
        "    java_file.write(e_java_content)"
      ],
      "metadata": {
        "id": "8OHgqQv0jbp_"
      },
      "execution_count": null,
      "outputs": []
    },
    {
      "cell_type": "code",
      "source": [
        "# Escribir el contenido de A.java en una celda de código\n",
        "f_java_content = \"\"\"\n",
        "package ejercicio1;\n",
        "\n",
        "public class F {\n",
        "    public static void main(String[] args) {\n",
        "        String letra = \"F\";\n",
        "       // String padrePID = args[0];\n",
        "\n",
        "        System.out.println(letra + \" (PID: \" + ProcessHandle.current().pid() + \", PID Padre: \" + ProcessHandle.current().parent().get().pid() + \")\");\n",
        "\n",
        "\n",
        "    }\n",
        "}\n",
        "\n",
        "\"\"\"\n",
        "\n",
        "\n",
        "# Escribir el contenido de A.java en un archivo\n",
        "with open(\"src/F.java\", \"w\") as java_file:\n",
        "    java_file.write(f_java_content)"
      ],
      "metadata": {
        "id": "HeGbaFs5jiPW"
      },
      "execution_count": null,
      "outputs": []
    },
    {
      "cell_type": "code",
      "source": [
        "# Escribir el contenido de A.java en una celda de código\n",
        "g_java_content = \"\"\"\n",
        "package ejercicio1;\n",
        "\n",
        "public class G {\n",
        "\n",
        "\t    public static void main(String[] args) {\n",
        "\t        String letra = \"G\";\n",
        "\t       // String padrePID = args[0];\n",
        "\n",
        "\t        System.out.println(letra + \" (PID: \" + ProcessHandle.current().pid() + \", PID Padre: \" + ProcessHandle.current().parent().get().pid() + \")\");\n",
        "\n",
        "\t    }\n",
        "\t}\n",
        "\n",
        "\"\"\"\n",
        "\n",
        "\n",
        "# Escribir el contenido de A.java en un archivo\n",
        "with open(\"src/G.java\", \"w\") as java_file:\n",
        "    java_file.write(g_java_content)"
      ],
      "metadata": {
        "id": "D4lCA7j0jnVf"
      },
      "execution_count": null,
      "outputs": []
    },
    {
      "cell_type": "code",
      "source": [
        "# Escribir el contenido de A.java en una celda de código\n",
        "h_java_content = \"\"\"\n",
        "package ejercicio1;\n",
        "\n",
        "public class H {\n",
        "    public static void main(String[] args) {\n",
        "        String letra = \"H\";\n",
        "       // String padrePID = args[0];\n",
        "\n",
        "        System.out.println(letra + \" (PID: \" + ProcessHandle.current().pid() + \", PID Padre: \" + ProcessHandle.current().parent().get().pid() + \")\");\n",
        "\n",
        "    }\n",
        "}\n",
        "\n",
        "\"\"\"\n",
        "\n",
        "\n",
        "# Escribir el contenido de A.java en un archivo\n",
        "with open(\"src/H.java\", \"w\") as java_file:\n",
        "    java_file.write(h_java_content)"
      ],
      "metadata": {
        "id": "hy1j_V1AjuEB"
      },
      "execution_count": null,
      "outputs": []
    },
    {
      "cell_type": "code",
      "source": [
        "# Escribir el contenido de run.sh en una celda de código\n",
        "run_sh_content = \"\"\"\n",
        "#!/bin/bash\n",
        "\n",
        "# Compilar A.java y crear el directorio bin si no existe\n",
        "javac -d bin src/A.java\n",
        "mkdir -p bin/ejercicio1\n",
        "\n",
        "# Compilar B.java y C.java y mover los archivos .class al directorio bin/ejercicio1\n",
        "javac -d bin src/B.java\n",
        "javac -d bin src/C.java\n",
        "javac -d bin src/D.java\n",
        "javac -d bin src/E.java\n",
        "javac -d bin src/F.java\n",
        "javac -d bin src/G.java\n",
        "javac -d bin src/H.java\n",
        "\n",
        "# Ejecutar el programa A\n",
        "java -cp bin ejercicio1.A\n",
        "\n",
        "\"\"\"\n",
        "\n",
        "# Escribir el contenido de run.sh en un archivo\n",
        "with open(\"run.sh\", \"w\") as run_sh_file:\n",
        "    run_sh_file.write(run_sh_content)"
      ],
      "metadata": {
        "id": "dVzKELWQj0Fv"
      },
      "execution_count": null,
      "outputs": []
    },
    {
      "cell_type": "code",
      "source": [
        "!bash run.sh"
      ],
      "metadata": {
        "colab": {
          "base_uri": "https://localhost:8080/"
        },
        "id": "30RxDz-hkU7-",
        "outputId": "f7fb9cc5-421d-4a98-fa0f-5969eda8969e"
      },
      "execution_count": null,
      "outputs": [
        {
          "output_type": "stream",
          "name": "stdout",
          "text": [
            "A (PID: 17288, PID Padre: 17102)\n",
            "B (PID: 17305, PID Padre: 17288)\n",
            "D (PID: 17329, PID Padre: 17305)\n",
            "E (PID: 17353, PID Padre: 17305)\n",
            "G (PID: 17376, PID Padre: 17353)\n",
            "H (PID: 17400, PID Padre: 17353)\n",
            "C (PID: 17423, PID Padre: 17288)\n",
            "F (PID: 17445, PID Padre: 17423)\n"
          ]
        }
      ]
    }
  ]
}